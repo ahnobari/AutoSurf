{
 "cells": [
  {
   "cell_type": "code",
   "execution_count": null,
   "id": "a26cc301",
   "metadata": {},
   "outputs": [],
   "source": [
    "from __future__ import print_function\n",
    "import openvsp as vsp\n",
    "\n",
    "import numpy as np\n",
    "import os\n",
    "import json\n",
    "\n",
    "from scipy.spatial.transform import Rotation as R\n",
    "\n",
    "import matplotlib.pyplot as plt\n",
    "\n",
    "import pymeshlab\n",
    "\n",
    "import pygem\n",
    "\n",
    "import glob\n",
    "\n",
    "import tqdm\n",
    "\n",
    "import polyscope as ps"
   ]
  },
  {
   "cell_type": "markdown",
   "id": "1aefe25d",
   "metadata": {},
   "source": [
    "## Loading Meta Data\n",
    "\n",
    "A json file is populated in the base data folder which includes the necessary information to process the data from openvsp. We will first load that json."
   ]
  },
  {
   "cell_type": "code",
   "execution_count": null,
   "id": "c4ba4a16",
   "metadata": {},
   "outputs": [],
   "source": [
    "f = open('./Base Data/Data_Breakdown.json')\n",
    "\n",
    "meta_data = json.load(f)\n",
    "\n",
    "f.close()"
   ]
  },
  {
   "cell_type": "markdown",
   "id": "99f1c4ec",
   "metadata": {},
   "source": [
    "### Loading A Model\n",
    "\n",
    "Now let's load the first model and save the mesh."
   ]
  },
  {
   "cell_type": "code",
   "execution_count": null,
   "id": "347b20f8",
   "metadata": {},
   "outputs": [],
   "source": [
    "vsp.ReadVSPFile('./Base Data/%s'%meta_data[0]['Model'])\n",
    "vsp.ExportFile('test.obj',vsp.SET_ALL,vsp.EXPORT_OBJ)\n",
    "\n",
    "print('Saved test.obj in the main folder oopen to see the model.')"
   ]
  },
  {
   "cell_type": "markdown",
   "id": "ef7be9ac",
   "metadata": {},
   "source": [
    "If you open the model in meshlab the following is shown:"
   ]
  },
  {
   "cell_type": "markdown",
   "id": "928cbefe",
   "metadata": {},
   "source": [
    "<img src=\"https://i.ibb.co/dfy0Q67/image.png\" alt=\"image\" border=\"0\">"
   ]
  },
  {
   "cell_type": "markdown",
   "id": "2bd977f3",
   "metadata": {},
   "source": [
    "Now we will remove the test.obj file."
   ]
  },
  {
   "cell_type": "code",
   "execution_count": null,
   "id": "0f6bdcaf",
   "metadata": {},
   "outputs": [],
   "source": [
    "os.remove('test.obj')"
   ]
  },
  {
   "cell_type": "markdown",
   "id": "4a7d5c11",
   "metadata": {},
   "source": [
    "Now let's process the models into their components and create a labeled mesh (labeled by face color):"
   ]
  },
  {
   "cell_type": "code",
   "execution_count": null,
   "id": "d4ae6574",
   "metadata": {},
   "outputs": [],
   "source": [
    "def process_model(meta_data, fname = None):\n",
    "    vsp.ClearVSPModel()\n",
    "    if fname is None:\n",
    "        fname = './Base Data/%s'%meta_data['Model']\n",
    "    \n",
    "    vsp.ReadVSPFile(fname)\n",
    "    vsp.Update()\n",
    "    #Save each geometry seprately\n",
    "    for i in range(meta_data['sets'] + 1):\n",
    "        vsp.ExportFile('temp-%i.obj'%i,3+i,vsp.EXPORT_OBJ)\n",
    "    \n",
    "    ms = pymeshlab.MeshSet()\n",
    "\n",
    "    for part in ['Fuselage','Stabalizers','Engine','Wing']:\n",
    "        inds = meta_data['Parts'][part]\n",
    "\n",
    "        ms = pymeshlab.MeshSet()\n",
    "\n",
    "        for i in inds:\n",
    "            ms.load_new_mesh('temp-%i.obj'%i)\n",
    "            try:\n",
    "                ms.meshing_close_holes(maxholesize = 10000)\n",
    "            except:\n",
    "                pass\n",
    "            \n",
    "        if ms.number_meshes()>1:\n",
    "            ms.generate_boolean_union(first_mesh=0,second_mesh=1)\n",
    "\n",
    "            for i in range(2,len(inds)):\n",
    "                ms.generate_boolean_union(first_mesh=i,second_mesh=ms.number_meshes()-1)\n",
    "\n",
    "        if len(inds)>0:\n",
    "            ms.set_current_mesh(ms.number_meshes()-1)\n",
    "            ms.save_current_mesh(part+'.obj')\n",
    "\n",
    "    ms = pymeshlab.MeshSet()\n",
    "    ms2 = pymeshlab.MeshSet()  \n",
    "\n",
    "    c = 0\n",
    "    colors = [[1.0,0.0,0.0,1.0],[0.0,1.0,0.0,1.0],[0.0,0.0,1.0,1.0],[0.0,1.0,1.0,1.0]]\n",
    "    for part in ['Fuselage','Stabalizers','Engine','Wing']:\n",
    "        inds = meta_data['Parts'][part]\n",
    "\n",
    "        if len(inds)>0:\n",
    "            ms2.load_new_mesh(part+'.obj')\n",
    "\n",
    "            m = ms2.current_mesh()\n",
    "            \n",
    "            color = np.zeros([m.face_number(),4]) + [colors[c]]\n",
    "\n",
    "            mm = pymeshlab.Mesh(vertex_matrix = m.vertex_matrix(), \n",
    "                                face_matrix = m.face_matrix(), \n",
    "                                edge_matrix=m.edge_matrix(),\n",
    "                                f_color_matrix =color\n",
    "                                )\n",
    "            ms.add_mesh(mesh=mm)\n",
    "            \n",
    "            try:\n",
    "                ms.meshing_close_holes(maxholesize = 10000)\n",
    "            except:\n",
    "                pass\n",
    "            os.remove(part+'.obj')\n",
    "        c += 1\n",
    "\n",
    "    n_parts = ms.number_meshes()\n",
    "\n",
    "    ms.generate_boolean_union(first_mesh=0,second_mesh=1,transfer_face_color = True)\n",
    "\n",
    "    for i in range(2,n_parts):\n",
    "        ms.generate_boolean_union(first_mesh=i,second_mesh=ms.number_meshes()-1,transfer_face_color = True)\n",
    "    \n",
    "    m = ms.current_mesh()\n",
    "    \n",
    "    if meta_data['Orientation'][0] == '+z' and meta_data['Orientation'][1] == '+x':\n",
    "        v_mat = np.copy(m.vertex_matrix())\n",
    "        v_mat = v_mat - v_mat.min(0)\n",
    "        v_mat = v_mat/v_mat.max()\n",
    "        v_mat = v_mat + (1 - v_mat.max(0))/2\n",
    "        mm = pymeshlab.Mesh(vertex_matrix = v_mat, \n",
    "                                face_matrix = m.face_matrix(), \n",
    "                                edge_matrix=m.edge_matrix(),\n",
    "                                f_color_matrix =m.face_color_matrix()\n",
    "                                )\n",
    "    else:\n",
    "        rot = R.from_rotvec(-np.pi/2 * np.array([0, 1, 0])).as_matrix()\n",
    "        v_mat = (rot @ np.copy(m.vertex_matrix()).T).T\n",
    "        v_mat = v_mat - v_mat.min(0)\n",
    "        v_mat = v_mat/v_mat.max()\n",
    "        v_mat = v_mat + (1 - v_mat.max(0))/2\n",
    "        mm = pymeshlab.Mesh(vertex_matrix = v_mat, \n",
    "                                face_matrix = m.face_matrix(), \n",
    "                                edge_matrix=m.edge_matrix(),\n",
    "                                f_color_matrix =m.face_color_matrix()\n",
    "                                )\n",
    "    \n",
    "    ms.add_mesh(mm)\n",
    "    ms.set_current_mesh(ms.number_meshes()-1)\n",
    "    ms.save_current_mesh(fname.replace('vsp3','obj').split('/')[-1])\n",
    "\n",
    "    for i in range(meta_data['sets'] + 1):\n",
    "        os.remove('temp-%i.obj'%i)"
   ]
  },
  {
   "cell_type": "code",
   "execution_count": null,
   "id": "33b6090d",
   "metadata": {},
   "outputs": [],
   "source": [
    "for m in meta_data:\n",
    "    process_model(m)"
   ]
  },
  {
   "cell_type": "markdown",
   "id": "c9083e62",
   "metadata": {},
   "source": [
    "Now if you open any of the saved obj files in mesh lab with face color enabled you will see:"
   ]
  },
  {
   "cell_type": "markdown",
   "id": "e6777d96",
   "metadata": {},
   "source": [
    "<img src=\"https://i.ibb.co/PZcYJD8/image.png\" alt=\"image\" border=\"0\" width=\"100%\">"
   ]
  },
  {
   "cell_type": "markdown",
   "id": "d72c2ab0",
   "metadata": {},
   "source": [
    "## Augmenting the Data\n",
    "\n",
    "Now that we have established how to process the data into useful models we shall now implement some basic augmentation approaches to increase the size of the dataset from 10 models to much more."
   ]
  },
  {
   "cell_type": "markdown",
   "id": "a730ef80",
   "metadata": {},
   "source": [
    "### Augmenting By Design Paramter Purturbation\n",
    "Let's now start by purturbing the design parameters for each model based on manually determined ranges in the meta-data json file to create design variations."
   ]
  },
  {
   "cell_type": "code",
   "execution_count": null,
   "id": "2bca0d81",
   "metadata": {},
   "outputs": [],
   "source": [
    "def get_random_variations(meta_data,n = 20):\n",
    "    \n",
    "    vsp.ClearVSPModel()\n",
    "    \n",
    "    fname = meta_data['Model']\n",
    "    \n",
    "    vsp.ReadVSPFile('./Base Data/%s'%fname)\n",
    "\n",
    "    parms = []\n",
    "    # First grab all the parameters\n",
    "    for parm in meta_data['Params']:\n",
    "        g = vsp.FindGeomsWithName(parm['Geom'])[0]\n",
    "        p = vsp.FindParm(g,parm['Name'],parm['GroupName'])\n",
    "        parms.append([p,parm['Range'],vsp.GetParmVal(p)])\n",
    "\n",
    "    \n",
    "    for i in range(n):\n",
    "        for p in parms:\n",
    "            vsp.SetParmVal(p[0],np.clip(np.random.normal(loc=p[2], scale= (p[1][1]-p[1][0])/6),p[1][0],p[1][1]))\n",
    "            \n",
    "        vsp.Update()\n",
    "        \n",
    "        vsp.WriteVSPFile('./Augmented/' + fname.replace('.','_%i.'%(i+1)))\n",
    "        \n",
    "    for i in range(n):        \n",
    "        process_model(meta_data,fname = './Augmented/' + fname.replace('.','_%i.'%(i+1)))"
   ]
  },
  {
   "cell_type": "code",
   "execution_count": null,
   "id": "a8c5e124",
   "metadata": {},
   "outputs": [],
   "source": [
    "for m in meta_data:\n",
    "    get_random_variations(m)"
   ]
  },
  {
   "cell_type": "markdown",
   "id": "52e480be",
   "metadata": {},
   "source": [
    "### Augmenting By Remeshing\n",
    "Let's first start by remehsing the meshes using isotropic explicit re meshing to get more uniform mesh faces and control their size to represent each design with different mesh structures."
   ]
  },
  {
   "cell_type": "code",
   "execution_count": null,
   "id": "2739fb99",
   "metadata": {},
   "outputs": [],
   "source": [
    "mesh_files = glob.glob(\"./*.obj\")\n",
    "\n",
    "for mesh_file in mesh_files:\n",
    "    \n",
    "    for i in range(4):     \n",
    "        ms = pymeshlab.MeshSet()\n",
    "        ms.load_new_mesh(mesh_file)\n",
    "        ms.meshing_isotropic_explicit_remeshing(targetlen =pymeshlab.Percentage((i + 2) * 0.2) , maxsurfdist = pymeshlab.Percentage(0.5))\n",
    "        ms.save_current_mesh(mesh_file.replace('.obj','_rmesh_%i.obj'%(i+1)))"
   ]
  },
  {
   "cell_type": "markdown",
   "id": "22b44200",
   "metadata": {},
   "source": [
    "### Saving The Meshes For Easier Access In Training\n",
    "\n",
    "Now let's save our dataset in numpy format and ready for graph based learning."
   ]
  },
  {
   "cell_type": "code",
   "execution_count": null,
   "id": "d4a1dd17",
   "metadata": {},
   "outputs": [],
   "source": [
    "mesh_files = glob.glob(\"./*.obj\")\n",
    "mesh_files.sort()\n",
    "data_set = []\n",
    "\n",
    "for mesh_file in tqdm.tqdm(mesh_files):\n",
    "    ms = pymeshlab.MeshSet()\n",
    "    ms.load_new_mesh(mesh_file)\n",
    "    \n",
    "    m = ms.current_mesh()\n",
    "    \n",
    "    v_mat = m.vertex_matrix().astype(np.float32)\n",
    "    f_mat = m.face_matrix().astype(np.int32)\n",
    "    edges = []\n",
    "\n",
    "    for f in f_mat:\n",
    "        edges.append([f[0],f[1]])\n",
    "        edges.append([f[1],f[0]])\n",
    "        edges.append([f[0],f[2]])\n",
    "        edges.append([f[2],f[0]])\n",
    "        edges.append([f[1],f[2]])\n",
    "        edges.append([f[2],f[1]])\n",
    "\n",
    "    edges = np.array(edges).astype(np.int32)\n",
    "    edges = np.unique(edges,axis=0)\n",
    "\n",
    "    label_mat = m.face_color_matrix()\n",
    "    labels = np.zeros([f_mat.shape[0],4])\n",
    "    labels[np.where(label_mat[:,0])[0],0] = 1.0\n",
    "    labels[np.where(np.logical_and(label_mat[:,1],np.logical_not(label_mat[:,2])))[0],1] = 1.0\n",
    "    labels[np.where(np.logical_and(label_mat[:,2],np.logical_not(label_mat[:,1])))[0],2] = 1.0\n",
    "    labels[np.where(np.logical_and(label_mat[:,2],label_mat[:,1]))[0],3] = 1.0\n",
    "\n",
    "    labels = labels.astype(bool)\n",
    "    \n",
    "    data_set.append([v_mat,f_mat,edges,labels])\n",
    "\n",
    "data_set = np.array(data_set)\n",
    "\n",
    "np.save('dataset.npy',data_set)"
   ]
  },
  {
   "cell_type": "markdown",
   "id": "4012e454",
   "metadata": {},
   "source": [
    "### Active Augmentation Pipeline\n",
    "Now we will create an active augmentation pipeline which will be used to randomly alter the models during training. Four primary approaches are introduced here:\n",
    "\n",
    "<ul>\n",
    "    <li><b>Free Form Deformation</b>: We randomly apply FFD to any given model before training.</li>\n",
    "    <li><b>Random Scaling</b>: The scale of the model will be altered randomly +/- 20 %.</li>\n",
    "    <li><b>Random Rotation</b>: The models will be randomly rotated +/- 45 degrees across all three axes.</li>\n",
    "    <li><b>Random Translation</b>: The models will be randomly moved in space from the center of a unit box maximum translation in each direction will be limited to +/- 0.15</li>\n",
    "</ul>"
   ]
  },
  {
   "cell_type": "markdown",
   "id": "41c780a2",
   "metadata": {},
   "source": [
    "Let's start with a simple sphere and see how the random augmentation  works"
   ]
  },
  {
   "cell_type": "code",
   "execution_count": null,
   "id": "0afc8dee",
   "metadata": {},
   "outputs": [],
   "source": [
    "def mesh_points(num_pts = 2000):\n",
    "    indices = np.arange(0, num_pts, dtype=float) + 0.5\n",
    "\n",
    "    phi = np.arccos(1 - 2*indices/num_pts)\n",
    "    theta = np.pi * (1 + 5**0.5) * indices\n",
    "\n",
    "    return (np.array([np.cos(theta) * np.sin(phi), np.sin(theta) * np.sin(phi), np.cos(phi)]).T + 1.0)/2.0\n",
    "\n",
    "mesh = mesh_points()\n",
    "plt.figure(figsize=(8,8)).add_subplot(111, projection='3d').scatter(*mesh.T);\n",
    "plt.show()"
   ]
  },
  {
   "cell_type": "code",
   "execution_count": null,
   "id": "9f87a8eb",
   "metadata": {},
   "outputs": [],
   "source": [
    "def Augmentation_pipeline(v_mat,ffd_scale = 0.35, scale=0.1, rotation=np.pi/12,translation=0.0):\n",
    "    \n",
    "    ffd = pygem.FFD([4, 4, 4])\n",
    "    ffd.array_mu_x = np.random.uniform(low = -ffd_scale, high=ffd_scale , size=ffd.array_mu_x.shape)\n",
    "    ffd.array_mu_y = np.random.uniform(low = -ffd_scale, high=ffd_scale , size=ffd.array_mu_y.shape)\n",
    "    ffd.array_mu_z = np.random.uniform(low = -ffd_scale, high=ffd_scale , size=ffd.array_mu_z.shape)\n",
    "    \n",
    "    v_mat = ffd(v_mat)\n",
    "    \n",
    "    v_mat = (R.from_rotvec(np.random.uniform(low=-rotation,high=rotation,size=3)).as_matrix() @ v_mat.T).T\n",
    "    \n",
    "    v_mat *= (1-np.random.uniform(high=scale))\n",
    "    \n",
    "    v_mat = v_mat - v_mat.min(0)\n",
    "    v_mat = v_mat + (1 - v_mat.max(0))/2\n",
    "    \n",
    "    v_mat += np.random.uniform(low=-translation,high=translation,size=3)\n",
    "    \n",
    "    \n",
    "    \n",
    "    return v_mat"
   ]
  },
  {
   "cell_type": "code",
   "execution_count": null,
   "id": "ee97c8b3",
   "metadata": {},
   "outputs": [],
   "source": [
    "new_mesh = Augmentation_pipeline(mesh)\n",
    "\n",
    "ax = plt.figure(figsize=(8,8)).add_subplot(111, projection='3d')\n",
    "ax.scatter(*new_mesh.T)\n",
    "ax.scatter(*mesh.T)\n",
    "plt.show()"
   ]
  },
  {
   "cell_type": "markdown",
   "id": "6ceb6f1b",
   "metadata": {},
   "source": [
    "This Augmentaion will be applied randomly to all samples during training."
   ]
  },
  {
   "cell_type": "markdown",
   "id": "79c294d0",
   "metadata": {},
   "source": [
    "### Rendering OBJ Files\n",
    "Now we will implement rendering and save the images of our dataset"
   ]
  },
  {
   "cell_type": "code",
   "execution_count": null,
   "id": "591f1d8f",
   "metadata": {},
   "outputs": [],
   "source": [
    "def render_mesh(file,save_file ='render.png', view='isometric',shadow=False,colorize=True, def_color=[0.7,0.7,0.7]):\n",
    "    ms = pymeshlab.MeshSet()\n",
    "    ms.load_new_mesh(file)\n",
    "    m = ms.current_mesh()\n",
    "        \n",
    "    v_mat = m.vertex_matrix().astype(np.float32)\n",
    "    f_mat = m.face_matrix().astype(np.int32)\n",
    "    label_mat = m.face_color_matrix()\n",
    "\n",
    "    ps.set_autocenter_structures(True)\n",
    "    ps.set_autoscale_structures(True)\n",
    "    ps.init()\n",
    "\n",
    "    if colorize:\n",
    "        ps_mesh = ps.register_surface_mesh(\"my mesh\", v_mat, f_mat[np.where(label_mat[:,0])[0]],color=[1.0,0.0,0.0])\n",
    "        ps_mesh1 = ps.register_surface_mesh(\"my mesh 1\", v_mat, f_mat[np.where(np.logical_and(label_mat[:,1],np.logical_not(label_mat[:,2])))[0]],color=[0.0,1.0,0.0])\n",
    "        ps_mesh2 = ps.register_surface_mesh(\"my mesh 2\", v_mat, f_mat[np.where(np.logical_and(label_mat[:,2],np.logical_not(label_mat[:,1])))[0]],color=[0.0,0.0,1.0])\n",
    "        ps_mesh3 = ps.register_surface_mesh(\"my mesh 3\", v_mat, f_mat[np.where(np.logical_and(label_mat[:,2],label_mat[:,1]))[0]],color=[0.0,1.0,1.0])\n",
    "    else:\n",
    "        ps_mesh = ps.register_surface_mesh(\"my mesh\", v_mat, f_mat,color=def_color)\n",
    "\n",
    "    ps.set_ground_plane_height_factor(0.08)\n",
    "    ps.set_up_dir(\"z_up\")\n",
    "\n",
    "    if shadow:\n",
    "        ps.set_ground_plane_mode(\"shadow_only\")\n",
    "    else:\n",
    "        ps.set_ground_plane_mode(\"none\")\n",
    "\n",
    "\n",
    "    if view == 'isometric':\n",
    "        ps.look_at((-1.0,-1.0,1.0),(.0, .0, .0))\n",
    "    elif view == 'top':\n",
    "        ps.look_at((-0.0,-0.001,1.8),(.0, .0, .0))\n",
    "    elif view == 'bottom':\n",
    "        ps.look_at((-0.0,-0.001,-1.8),(.0, .0, .0))\n",
    "    elif view == 'left':\n",
    "        ps.look_at((-0.0,-1.8,0.0),(.0, .0, .0))\n",
    "    elif view == 'right':\n",
    "        ps.look_at((-0.0,1.8,0.0),(.0, .0, .0))\n",
    "    elif view == 'front':\n",
    "        ps.look_at((-1.8,0.0,0.0),(.0, .0, .0))\n",
    "    elif view == 'back':\n",
    "        ps.look_at((1.8,0.0,0.0),(.0, .0, .0))\n",
    "\n",
    "    ps.screenshot(filename=save_file)\n",
    "    # ps.show()\n"
   ]
  },
  {
   "cell_type": "code",
   "execution_count": null,
   "id": "f65206df",
   "metadata": {},
   "outputs": [],
   "source": [
    "mesh_files = glob.glob(\".\\*.obj\")\n",
    "\n",
    "for mesh_file in tqdm.tqdm(mesh_files):\n",
    "    render_mesh(mesh_file,'./isometric_view/' + mesh_file.split('\\\\')[-1].replace('.obj','.png'))\n",
    "    render_mesh(mesh_file,'./top_view/' + mesh_file.split('\\\\')[-1].replace('.obj','.png'),view='top')\n",
    "    render_mesh(mesh_file,'./bottom_view/' + mesh_file.split('\\\\')[-1].replace('.obj','.png'),view='bottom')\n",
    "    render_mesh(mesh_file,'./left_view/' + mesh_file.split('\\\\')[-1].replace('.obj','.png'),view='left')\n",
    "    render_mesh(mesh_file,'./right_view/' + mesh_file.split('\\\\')[-1].replace('.obj','.png'),view='right')\n",
    "    render_mesh(mesh_file,'./front_view/' + mesh_file.split('\\\\')[-1].replace('.obj','.png'),view='front')\n",
    "    render_mesh(mesh_file,'./back_view/' + mesh_file.split('\\\\')[-1].replace('.obj','.png'),view='back')"
   ]
  }
 ],
 "metadata": {
  "kernelspec": {
   "display_name": "Python 3 (ipykernel)",
   "language": "python",
   "name": "python3"
  },
  "language_info": {
   "codemirror_mode": {
    "name": "ipython",
    "version": 3
   },
   "file_extension": ".py",
   "mimetype": "text/x-python",
   "name": "python",
   "nbconvert_exporter": "python",
   "pygments_lexer": "ipython3",
   "version": "3.9.13"
  },
  "vscode": {
   "interpreter": {
    "hash": "b62af4888e87da53f856de2ffc6c1d67a690e90421b94d202eec01971c9cdc02"
   }
  }
 },
 "nbformat": 4,
 "nbformat_minor": 5
}
